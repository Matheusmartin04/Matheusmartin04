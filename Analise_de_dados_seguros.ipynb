{
  "nbformat": 4,
  "nbformat_minor": 0,
  "metadata": {
    "colab": {
      "provenance": [],
      "mount_file_id": "1vRsQtggOZe5mYa8LdbwP_CBZurgaJsgN",
      "authorship_tag": "ABX9TyPBUa5yZup+kGnA2PMC6mSW",
      "include_colab_link": true
    },
    "kernelspec": {
      "name": "python3",
      "display_name": "Python 3"
    },
    "language_info": {
      "name": "python"
    }
  },
  "cells": [
    {
      "cell_type": "markdown",
      "metadata": {
        "id": "view-in-github",
        "colab_type": "text"
      },
      "source": [
        "<a href=\"https://colab.research.google.com/github/Matheusmartin04/Matheusmartin04/blob/main/Analise_de_dados_seguros.ipynb\" target=\"_parent\"><img src=\"https://colab.research.google.com/assets/colab-badge.svg\" alt=\"Open In Colab\"/></a>"
      ]
    },
    {
      "cell_type": "markdown",
      "source": [],
      "metadata": {
        "id": "4ul1lHV70LV6"
      }
    },
    {
      "cell_type": "markdown",
      "source": [
        "## **Dados do Prêmio do seguro**\n",
        "Essa base de dados trata sobre o valor do prêmio cobrado para cobrir um seguro de saúde. O datset possui as variáveis (Idade, Sexo, IMC, pressão sanguínea, Quantidade de filhos, diabetes, fumante, região, Prêmio)"
      ],
      "metadata": {
        "id": "ZT_sFv2bu_G1"
      }
    },
    {
      "cell_type": "markdown",
      "source": [
        "## **Objetivo da análise:**\n",
        "* **Etapa 1: Extrair insights das base de dados, buscando responder as perguntas:**\n",
        " - Como se dar a distribuição da idades dos clientes?\n",
        " - Qual o percentual de clientes pelo gênero?\n",
        " - Qual o percentual de clientes diabéticos e fumantes?\n",
        " - Como se dar a distribuição dos filhos dos clientes?\n",
        " - Existe alguma relação entre o valor do prêmio e o sexo do cliente?\n",
        " - Para cliente fumantes o Prêmio pago no seguro é maix caro? e para clientes diabeticos?\n",
        "* **Etapa 2: Estudar a relação entre valor do prêmio com base nas covariáveis do dataset**\n",
        " - Aplicação de um Modelo Linear Generalizado (Gamma)\n",
        "* **Etapa 3: Prever o valor do prêmio com base nas covariáveis do dataset**\n"
      ],
      "metadata": {
        "id": "oE3zIoXwvFYN"
      }
    },
    {
      "cell_type": "markdown",
      "source": [
        "# **Etapas de processamento**"
      ],
      "metadata": {
        "id": "YAhA-Jvwd6Qp"
      }
    },
    {
      "cell_type": "markdown",
      "source": [
        "## Importanto as bibliotecas"
      ],
      "metadata": {
        "id": "GdSCil_FZAW2"
      }
    },
    {
      "cell_type": "code",
      "execution_count": 37,
      "metadata": {
        "id": "Sr1QUV8JNHzt"
      },
      "outputs": [],
      "source": [
        "import pandas as pd\n",
        "import numpy as np\n",
        "import matplotlib.pyplot as plt\n",
        "import seaborn as sns\n",
        "from sklearn.linear_model import LinearRegression\n",
        "from sklearn.model_selection import train_test_split\n",
        "from sklearn.metrics import mean_squared_error, r2_score\n",
        "import matplotlib.font_manager as font_manage\n",
        "from scipy.stats import kstest, gamma\n",
        "import statsmodels.api as sm"
      ]
    },
    {
      "cell_type": "markdown",
      "source": [
        "## Carregando a base e apago os valores faltantes"
      ],
      "metadata": {
        "id": "8Gl0r6IveHBp"
      }
    },
    {
      "cell_type": "code",
      "source": [
        "data = pd.read_csv(\"/content/drive/MyDrive/FACULDADE/Documents/insurance_data.csv\")\n",
        "data = data.dropna(axis=0)\n",
        "data= data.dropna()"
      ],
      "metadata": {
        "id": "U8XB8HPZOds9"
      },
      "execution_count": 131,
      "outputs": []
    },
    {
      "cell_type": "markdown",
      "source": [
        "## Renomeando as colunas"
      ],
      "metadata": {
        "id": "a7x-WhgeeMRp"
      }
    },
    {
      "cell_type": "code",
      "source": [
        "data = data.rename(columns={'index': 'ID', 'age': 'idade',\t'gender': 'sexo',\n",
        "                        'bmi': 'IMC',\t'bloodpressure': 'pressao_sanguinia', \n",
        "                        'diabetic' : \"diabete\",\t'children': \"qtd_filhos\",\n",
        "                        'smoker': 'fumante',\t'region':'regiao',\t'claim': 'premio'})\n"
      ],
      "metadata": {
        "id": "x_vjVyOePSw2"
      },
      "execution_count": 132,
      "outputs": []
    },
    {
      "cell_type": "code",
      "source": [
        "data['idade'] = data['idade'].astype(int)\n",
        "data['pressao_sanguinia'] = data['pressao_sanguinia'].astype(float)\n",
        "data['qtd_filhos'] = data['qtd_filhos'].astype(int)\n",
        "data['premio'] = data['premio'].astype(float)\n",
        "data.head()"
      ],
      "metadata": {
        "colab": {
          "base_uri": "https://localhost:8080/",
          "height": 206
        },
        "id": "RQUz4zWV69GY",
        "outputId": "019d3f45-000b-4092-e17c-57615dfc81ca"
      },
      "execution_count": 133,
      "outputs": [
        {
          "output_type": "execute_result",
          "data": {
            "text/plain": [
              "   ID  PatientID  idade  sexo   IMC  pressao_sanguinia diabete  qtd_filhos  \\\n",
              "0   0          1     39  male  23.2               91.0     Yes           0   \n",
              "1   1          2     24  male  30.1               87.0      No           0   \n",
              "7   7          8     19  male  41.1              100.0      No           0   \n",
              "8   8          9     20  male  43.0               86.0      No           0   \n",
              "9   9         10     30  male  53.1               97.0      No           0   \n",
              "\n",
              "  fumante     regiao   premio  \n",
              "0      No  southeast  1121.87  \n",
              "1      No  southeast  1131.51  \n",
              "7      No  northwest  1146.80  \n",
              "8      No  northwest  1149.40  \n",
              "9      No  northwest  1163.46  "
            ],
            "text/html": [
              "\n",
              "  <div id=\"df-6e06a618-1b67-4f74-8f24-26cc1d57ef28\">\n",
              "    <div class=\"colab-df-container\">\n",
              "      <div>\n",
              "<style scoped>\n",
              "    .dataframe tbody tr th:only-of-type {\n",
              "        vertical-align: middle;\n",
              "    }\n",
              "\n",
              "    .dataframe tbody tr th {\n",
              "        vertical-align: top;\n",
              "    }\n",
              "\n",
              "    .dataframe thead th {\n",
              "        text-align: right;\n",
              "    }\n",
              "</style>\n",
              "<table border=\"1\" class=\"dataframe\">\n",
              "  <thead>\n",
              "    <tr style=\"text-align: right;\">\n",
              "      <th></th>\n",
              "      <th>ID</th>\n",
              "      <th>PatientID</th>\n",
              "      <th>idade</th>\n",
              "      <th>sexo</th>\n",
              "      <th>IMC</th>\n",
              "      <th>pressao_sanguinia</th>\n",
              "      <th>diabete</th>\n",
              "      <th>qtd_filhos</th>\n",
              "      <th>fumante</th>\n",
              "      <th>regiao</th>\n",
              "      <th>premio</th>\n",
              "    </tr>\n",
              "  </thead>\n",
              "  <tbody>\n",
              "    <tr>\n",
              "      <th>0</th>\n",
              "      <td>0</td>\n",
              "      <td>1</td>\n",
              "      <td>39</td>\n",
              "      <td>male</td>\n",
              "      <td>23.2</td>\n",
              "      <td>91.0</td>\n",
              "      <td>Yes</td>\n",
              "      <td>0</td>\n",
              "      <td>No</td>\n",
              "      <td>southeast</td>\n",
              "      <td>1121.87</td>\n",
              "    </tr>\n",
              "    <tr>\n",
              "      <th>1</th>\n",
              "      <td>1</td>\n",
              "      <td>2</td>\n",
              "      <td>24</td>\n",
              "      <td>male</td>\n",
              "      <td>30.1</td>\n",
              "      <td>87.0</td>\n",
              "      <td>No</td>\n",
              "      <td>0</td>\n",
              "      <td>No</td>\n",
              "      <td>southeast</td>\n",
              "      <td>1131.51</td>\n",
              "    </tr>\n",
              "    <tr>\n",
              "      <th>7</th>\n",
              "      <td>7</td>\n",
              "      <td>8</td>\n",
              "      <td>19</td>\n",
              "      <td>male</td>\n",
              "      <td>41.1</td>\n",
              "      <td>100.0</td>\n",
              "      <td>No</td>\n",
              "      <td>0</td>\n",
              "      <td>No</td>\n",
              "      <td>northwest</td>\n",
              "      <td>1146.80</td>\n",
              "    </tr>\n",
              "    <tr>\n",
              "      <th>8</th>\n",
              "      <td>8</td>\n",
              "      <td>9</td>\n",
              "      <td>20</td>\n",
              "      <td>male</td>\n",
              "      <td>43.0</td>\n",
              "      <td>86.0</td>\n",
              "      <td>No</td>\n",
              "      <td>0</td>\n",
              "      <td>No</td>\n",
              "      <td>northwest</td>\n",
              "      <td>1149.40</td>\n",
              "    </tr>\n",
              "    <tr>\n",
              "      <th>9</th>\n",
              "      <td>9</td>\n",
              "      <td>10</td>\n",
              "      <td>30</td>\n",
              "      <td>male</td>\n",
              "      <td>53.1</td>\n",
              "      <td>97.0</td>\n",
              "      <td>No</td>\n",
              "      <td>0</td>\n",
              "      <td>No</td>\n",
              "      <td>northwest</td>\n",
              "      <td>1163.46</td>\n",
              "    </tr>\n",
              "  </tbody>\n",
              "</table>\n",
              "</div>\n",
              "      <button class=\"colab-df-convert\" onclick=\"convertToInteractive('df-6e06a618-1b67-4f74-8f24-26cc1d57ef28')\"\n",
              "              title=\"Convert this dataframe to an interactive table.\"\n",
              "              style=\"display:none;\">\n",
              "        \n",
              "  <svg xmlns=\"http://www.w3.org/2000/svg\" height=\"24px\"viewBox=\"0 0 24 24\"\n",
              "       width=\"24px\">\n",
              "    <path d=\"M0 0h24v24H0V0z\" fill=\"none\"/>\n",
              "    <path d=\"M18.56 5.44l.94 2.06.94-2.06 2.06-.94-2.06-.94-.94-2.06-.94 2.06-2.06.94zm-11 1L8.5 8.5l.94-2.06 2.06-.94-2.06-.94L8.5 2.5l-.94 2.06-2.06.94zm10 10l.94 2.06.94-2.06 2.06-.94-2.06-.94-.94-2.06-.94 2.06-2.06.94z\"/><path d=\"M17.41 7.96l-1.37-1.37c-.4-.4-.92-.59-1.43-.59-.52 0-1.04.2-1.43.59L10.3 9.45l-7.72 7.72c-.78.78-.78 2.05 0 2.83L4 21.41c.39.39.9.59 1.41.59.51 0 1.02-.2 1.41-.59l7.78-7.78 2.81-2.81c.8-.78.8-2.07 0-2.86zM5.41 20L4 18.59l7.72-7.72 1.47 1.35L5.41 20z\"/>\n",
              "  </svg>\n",
              "      </button>\n",
              "      \n",
              "  <style>\n",
              "    .colab-df-container {\n",
              "      display:flex;\n",
              "      flex-wrap:wrap;\n",
              "      gap: 12px;\n",
              "    }\n",
              "\n",
              "    .colab-df-convert {\n",
              "      background-color: #E8F0FE;\n",
              "      border: none;\n",
              "      border-radius: 50%;\n",
              "      cursor: pointer;\n",
              "      display: none;\n",
              "      fill: #1967D2;\n",
              "      height: 32px;\n",
              "      padding: 0 0 0 0;\n",
              "      width: 32px;\n",
              "    }\n",
              "\n",
              "    .colab-df-convert:hover {\n",
              "      background-color: #E2EBFA;\n",
              "      box-shadow: 0px 1px 2px rgba(60, 64, 67, 0.3), 0px 1px 3px 1px rgba(60, 64, 67, 0.15);\n",
              "      fill: #174EA6;\n",
              "    }\n",
              "\n",
              "    [theme=dark] .colab-df-convert {\n",
              "      background-color: #3B4455;\n",
              "      fill: #D2E3FC;\n",
              "    }\n",
              "\n",
              "    [theme=dark] .colab-df-convert:hover {\n",
              "      background-color: #434B5C;\n",
              "      box-shadow: 0px 1px 3px 1px rgba(0, 0, 0, 0.15);\n",
              "      filter: drop-shadow(0px 1px 2px rgba(0, 0, 0, 0.3));\n",
              "      fill: #FFFFFF;\n",
              "    }\n",
              "  </style>\n",
              "\n",
              "      <script>\n",
              "        const buttonEl =\n",
              "          document.querySelector('#df-6e06a618-1b67-4f74-8f24-26cc1d57ef28 button.colab-df-convert');\n",
              "        buttonEl.style.display =\n",
              "          google.colab.kernel.accessAllowed ? 'block' : 'none';\n",
              "\n",
              "        async function convertToInteractive(key) {\n",
              "          const element = document.querySelector('#df-6e06a618-1b67-4f74-8f24-26cc1d57ef28');\n",
              "          const dataTable =\n",
              "            await google.colab.kernel.invokeFunction('convertToInteractive',\n",
              "                                                     [key], {});\n",
              "          if (!dataTable) return;\n",
              "\n",
              "          const docLinkHtml = 'Like what you see? Visit the ' +\n",
              "            '<a target=\"_blank\" href=https://colab.research.google.com/notebooks/data_table.ipynb>data table notebook</a>'\n",
              "            + ' to learn more about interactive tables.';\n",
              "          element.innerHTML = '';\n",
              "          dataTable['output_type'] = 'display_data';\n",
              "          await google.colab.output.renderOutput(dataTable, element);\n",
              "          const docLink = document.createElement('div');\n",
              "          docLink.innerHTML = docLinkHtml;\n",
              "          element.appendChild(docLink);\n",
              "        }\n",
              "      </script>\n",
              "    </div>\n",
              "  </div>\n",
              "  "
            ]
          },
          "metadata": {},
          "execution_count": 133
        }
      ]
    },
    {
      "cell_type": "markdown",
      "source": [
        "## Substituindo valores na Variável Sexo, Diabete e Fumante"
      ],
      "metadata": {
        "id": "DyR_DSawec3I"
      }
    },
    {
      "cell_type": "code",
      "source": [
        "data['sexo'] = data['sexo'].replace({'male': 'Masculino', 'female': 'Feminino'})\n",
        "data['sexo_dummy'] = np.where(data['sexo'] == 'Masculino', 1, 0)\n",
        "data['diabete'] = np.where(data['diabete'] == 'Yes', 1, 0)\n",
        "data['fumante'] = np.where(data['fumante'] == 'Yes', 1, 0)\n",
        "data.head()"
      ],
      "metadata": {
        "id": "ryKQ8TsbaytP",
        "colab": {
          "base_uri": "https://localhost:8080/",
          "height": 206
        },
        "outputId": "89dea65d-7638-4026-9511-8683d0373470"
      },
      "execution_count": 134,
      "outputs": [
        {
          "output_type": "execute_result",
          "data": {
            "text/plain": [
              "   ID  PatientID  idade       sexo   IMC  pressao_sanguinia  diabete  \\\n",
              "0   0          1     39  Masculino  23.2               91.0        1   \n",
              "1   1          2     24  Masculino  30.1               87.0        0   \n",
              "7   7          8     19  Masculino  41.1              100.0        0   \n",
              "8   8          9     20  Masculino  43.0               86.0        0   \n",
              "9   9         10     30  Masculino  53.1               97.0        0   \n",
              "\n",
              "   qtd_filhos  fumante     regiao   premio  sexo_dummy  \n",
              "0           0        0  southeast  1121.87           1  \n",
              "1           0        0  southeast  1131.51           1  \n",
              "7           0        0  northwest  1146.80           1  \n",
              "8           0        0  northwest  1149.40           1  \n",
              "9           0        0  northwest  1163.46           1  "
            ],
            "text/html": [
              "\n",
              "  <div id=\"df-fe8cf53b-e741-4789-95c6-2ed05fb51662\">\n",
              "    <div class=\"colab-df-container\">\n",
              "      <div>\n",
              "<style scoped>\n",
              "    .dataframe tbody tr th:only-of-type {\n",
              "        vertical-align: middle;\n",
              "    }\n",
              "\n",
              "    .dataframe tbody tr th {\n",
              "        vertical-align: top;\n",
              "    }\n",
              "\n",
              "    .dataframe thead th {\n",
              "        text-align: right;\n",
              "    }\n",
              "</style>\n",
              "<table border=\"1\" class=\"dataframe\">\n",
              "  <thead>\n",
              "    <tr style=\"text-align: right;\">\n",
              "      <th></th>\n",
              "      <th>ID</th>\n",
              "      <th>PatientID</th>\n",
              "      <th>idade</th>\n",
              "      <th>sexo</th>\n",
              "      <th>IMC</th>\n",
              "      <th>pressao_sanguinia</th>\n",
              "      <th>diabete</th>\n",
              "      <th>qtd_filhos</th>\n",
              "      <th>fumante</th>\n",
              "      <th>regiao</th>\n",
              "      <th>premio</th>\n",
              "      <th>sexo_dummy</th>\n",
              "    </tr>\n",
              "  </thead>\n",
              "  <tbody>\n",
              "    <tr>\n",
              "      <th>0</th>\n",
              "      <td>0</td>\n",
              "      <td>1</td>\n",
              "      <td>39</td>\n",
              "      <td>Masculino</td>\n",
              "      <td>23.2</td>\n",
              "      <td>91.0</td>\n",
              "      <td>1</td>\n",
              "      <td>0</td>\n",
              "      <td>0</td>\n",
              "      <td>southeast</td>\n",
              "      <td>1121.87</td>\n",
              "      <td>1</td>\n",
              "    </tr>\n",
              "    <tr>\n",
              "      <th>1</th>\n",
              "      <td>1</td>\n",
              "      <td>2</td>\n",
              "      <td>24</td>\n",
              "      <td>Masculino</td>\n",
              "      <td>30.1</td>\n",
              "      <td>87.0</td>\n",
              "      <td>0</td>\n",
              "      <td>0</td>\n",
              "      <td>0</td>\n",
              "      <td>southeast</td>\n",
              "      <td>1131.51</td>\n",
              "      <td>1</td>\n",
              "    </tr>\n",
              "    <tr>\n",
              "      <th>7</th>\n",
              "      <td>7</td>\n",
              "      <td>8</td>\n",
              "      <td>19</td>\n",
              "      <td>Masculino</td>\n",
              "      <td>41.1</td>\n",
              "      <td>100.0</td>\n",
              "      <td>0</td>\n",
              "      <td>0</td>\n",
              "      <td>0</td>\n",
              "      <td>northwest</td>\n",
              "      <td>1146.80</td>\n",
              "      <td>1</td>\n",
              "    </tr>\n",
              "    <tr>\n",
              "      <th>8</th>\n",
              "      <td>8</td>\n",
              "      <td>9</td>\n",
              "      <td>20</td>\n",
              "      <td>Masculino</td>\n",
              "      <td>43.0</td>\n",
              "      <td>86.0</td>\n",
              "      <td>0</td>\n",
              "      <td>0</td>\n",
              "      <td>0</td>\n",
              "      <td>northwest</td>\n",
              "      <td>1149.40</td>\n",
              "      <td>1</td>\n",
              "    </tr>\n",
              "    <tr>\n",
              "      <th>9</th>\n",
              "      <td>9</td>\n",
              "      <td>10</td>\n",
              "      <td>30</td>\n",
              "      <td>Masculino</td>\n",
              "      <td>53.1</td>\n",
              "      <td>97.0</td>\n",
              "      <td>0</td>\n",
              "      <td>0</td>\n",
              "      <td>0</td>\n",
              "      <td>northwest</td>\n",
              "      <td>1163.46</td>\n",
              "      <td>1</td>\n",
              "    </tr>\n",
              "  </tbody>\n",
              "</table>\n",
              "</div>\n",
              "      <button class=\"colab-df-convert\" onclick=\"convertToInteractive('df-fe8cf53b-e741-4789-95c6-2ed05fb51662')\"\n",
              "              title=\"Convert this dataframe to an interactive table.\"\n",
              "              style=\"display:none;\">\n",
              "        \n",
              "  <svg xmlns=\"http://www.w3.org/2000/svg\" height=\"24px\"viewBox=\"0 0 24 24\"\n",
              "       width=\"24px\">\n",
              "    <path d=\"M0 0h24v24H0V0z\" fill=\"none\"/>\n",
              "    <path d=\"M18.56 5.44l.94 2.06.94-2.06 2.06-.94-2.06-.94-.94-2.06-.94 2.06-2.06.94zm-11 1L8.5 8.5l.94-2.06 2.06-.94-2.06-.94L8.5 2.5l-.94 2.06-2.06.94zm10 10l.94 2.06.94-2.06 2.06-.94-2.06-.94-.94-2.06-.94 2.06-2.06.94z\"/><path d=\"M17.41 7.96l-1.37-1.37c-.4-.4-.92-.59-1.43-.59-.52 0-1.04.2-1.43.59L10.3 9.45l-7.72 7.72c-.78.78-.78 2.05 0 2.83L4 21.41c.39.39.9.59 1.41.59.51 0 1.02-.2 1.41-.59l7.78-7.78 2.81-2.81c.8-.78.8-2.07 0-2.86zM5.41 20L4 18.59l7.72-7.72 1.47 1.35L5.41 20z\"/>\n",
              "  </svg>\n",
              "      </button>\n",
              "      \n",
              "  <style>\n",
              "    .colab-df-container {\n",
              "      display:flex;\n",
              "      flex-wrap:wrap;\n",
              "      gap: 12px;\n",
              "    }\n",
              "\n",
              "    .colab-df-convert {\n",
              "      background-color: #E8F0FE;\n",
              "      border: none;\n",
              "      border-radius: 50%;\n",
              "      cursor: pointer;\n",
              "      display: none;\n",
              "      fill: #1967D2;\n",
              "      height: 32px;\n",
              "      padding: 0 0 0 0;\n",
              "      width: 32px;\n",
              "    }\n",
              "\n",
              "    .colab-df-convert:hover {\n",
              "      background-color: #E2EBFA;\n",
              "      box-shadow: 0px 1px 2px rgba(60, 64, 67, 0.3), 0px 1px 3px 1px rgba(60, 64, 67, 0.15);\n",
              "      fill: #174EA6;\n",
              "    }\n",
              "\n",
              "    [theme=dark] .colab-df-convert {\n",
              "      background-color: #3B4455;\n",
              "      fill: #D2E3FC;\n",
              "    }\n",
              "\n",
              "    [theme=dark] .colab-df-convert:hover {\n",
              "      background-color: #434B5C;\n",
              "      box-shadow: 0px 1px 3px 1px rgba(0, 0, 0, 0.15);\n",
              "      filter: drop-shadow(0px 1px 2px rgba(0, 0, 0, 0.3));\n",
              "      fill: #FFFFFF;\n",
              "    }\n",
              "  </style>\n",
              "\n",
              "      <script>\n",
              "        const buttonEl =\n",
              "          document.querySelector('#df-fe8cf53b-e741-4789-95c6-2ed05fb51662 button.colab-df-convert');\n",
              "        buttonEl.style.display =\n",
              "          google.colab.kernel.accessAllowed ? 'block' : 'none';\n",
              "\n",
              "        async function convertToInteractive(key) {\n",
              "          const element = document.querySelector('#df-fe8cf53b-e741-4789-95c6-2ed05fb51662');\n",
              "          const dataTable =\n",
              "            await google.colab.kernel.invokeFunction('convertToInteractive',\n",
              "                                                     [key], {});\n",
              "          if (!dataTable) return;\n",
              "\n",
              "          const docLinkHtml = 'Like what you see? Visit the ' +\n",
              "            '<a target=\"_blank\" href=https://colab.research.google.com/notebooks/data_table.ipynb>data table notebook</a>'\n",
              "            + ' to learn more about interactive tables.';\n",
              "          element.innerHTML = '';\n",
              "          dataTable['output_type'] = 'display_data';\n",
              "          await google.colab.output.renderOutput(dataTable, element);\n",
              "          const docLink = document.createElement('div');\n",
              "          docLink.innerHTML = docLinkHtml;\n",
              "          element.appendChild(docLink);\n",
              "        }\n",
              "      </script>\n",
              "    </div>\n",
              "  </div>\n",
              "  "
            ]
          },
          "metadata": {},
          "execution_count": 134
        }
      ]
    },
    {
      "cell_type": "markdown",
      "source": [
        "# **Etapa 1: Análise Descritivas**"
      ],
      "metadata": {
        "id": "q0Ee-u0Ieu9E"
      }
    },
    {
      "cell_type": "code",
      "source": [
        "# Conta o número de ocorrências da variavel (gênero, diabetic, Quantidade de fihos e fumante)\n",
        "sexo_count = data['sexo'].value_counts()\n",
        "diabete_count = data['diabete'].value_counts()\n",
        "qtd_filhos_count = data['qtd_filhos'].value_counts()\n",
        "fumante_count = data['fumante'].value_counts()\n",
        "regiao_count = data['regiao'].value_counts()"
      ],
      "metadata": {
        "id": "ezxChNriU7Du",
        "colab": {
          "base_uri": "https://localhost:8080/"
        },
        "outputId": "cac8eb7c-961b-439c-87f1-ec1d34d044a4"
      },
      "execution_count": 99,
      "outputs": [
        {
          "output_type": "execute_result",
          "data": {
            "text/plain": [
              "0    1058\n",
              "1     274\n",
              "Name: fumante, dtype: int64"
            ]
          },
          "metadata": {},
          "execution_count": 99
        }
      ]
    },
    {
      "cell_type": "markdown",
      "source": [
        "## **Distribuição dos clientes por idade**"
      ],
      "metadata": {
        "id": "jh-buzH6hR07"
      }
    },
    {
      "cell_type": "code",
      "source": [
        "# Seleciona os dados da coluna \"age\" do seu dataframe \"data\"\n",
        "idade = data['idade']\n",
        "\n",
        "# Cria um gráfico de histograma com as informações de idade\n",
        "fig, ax = plt.subplots(figsize=(10, 8))\n",
        "ax.hist(idade, bins=30, color='#00BFFF', edgecolor='black', linewidth=1.2)\n",
        "\n",
        "# Adiciona um título e rótulos dos eixos ao gráfico\n",
        "ax.set_title(\"Distribuição da Idade\", fontsize=18, fontweight='bold')\n",
        "ax.set_xlabel(\"Idade\", fontsize=14, fontweight='bold')\n",
        "ax.set_ylabel(\"Contagem\", fontsize=14, fontweight='bold')\n",
        "\n",
        "# Adiciona um grid ao fundo do gráfico\n",
        "ax.grid(axis='y', alpha=0.7)\n",
        "\n",
        "# Define o tamanho dos rótulos dos eixos e dos valores no gráfico\n",
        "plt.xticks(fontsize=12)\n",
        "plt.yticks(fontsize=12)\n",
        "\n",
        "# Remove a moldura superior e direita do gráfico\n",
        "ax.spines['top'].set_visible(False)\n",
        "ax.spines['right'].set_visible(False)\n",
        "\n",
        "# Exibe o gráfico\n",
        "plt.show()"
      ],
      "metadata": {
        "colab": {
          "base_uri": "https://localhost:8080/",
          "height": 524
        },
        "id": "iQVX8U05Pz6N",
        "outputId": "344d439c-1d2c-413d-81ad-a4c9da7cc055"
      },
      "execution_count": 67,
      "outputs": [
        {
          "output_type": "display_data",
          "data": {
            "text/plain": [
              "<Figure size 720x576 with 1 Axes>"
            ],
            "image/png": "[encoded data removed]"
          },
          "metadata": {}
        }
      ]
    },
    {
      "cell_type": "markdown",
      "source": [
        "### No gráfico acima, que representa o histograma da idade dos clientes. É notável que existe uma grande dispersão desde a idade minino até a idade maxíma, podendo concluir que uma pessoa com qualquer oessoa pode adquirir o plano de saúde."
      ],
      "metadata": {
        "id": "IYDzcbfnhgLU"
      }
    },
    {
      "cell_type": "markdown",
      "source": [
        "## **Percentual dos clientes por Sexo**"
      ],
      "metadata": {
        "id": "cvfIi02LiJmc"
      }
    },
    {
      "cell_type": "code",
      "source": [
        "# Define as cores e rótulos das fatias do gráfico\n",
        "colors = ['#F08080', '#00BFFF']\n",
        "labels = ['Feminino', 'Masculino']\n",
        "\n",
        "# Cria um gráfico de setor com as informações de gênero\n",
        "fig, ax = plt.subplots(figsize=(8, 6), subplot_kw=dict(aspect='equal'))\n",
        "wedges, texts, autotexts = ax.pie(sexo_count, colors= ['#F08080', '#00BFFF'], autopct='%1.1f%%', textprops=dict(color=\"w\"))\n",
        "ax.legend(wedges, labels, title=\"Gênero\", loc=\"center left\", bbox_to_anchor=(1, 0, 0.5, 1))\n",
        "ax.set_title(\"Distribuição por sexo\", fontsize=18, fontweight='bold')\n",
        "\n",
        "# Adiciona uma borda branca ao gráfico de setor\n",
        "ax.set_facecolor('#ffffff')\n",
        "\n",
        "# Define a fonte e tamanho do texto dentro do gráfico de setor\n",
        "plt.setp(autotexts, size=14, weight=\"bold\")\n",
        "plt.setp(texts, size=14)\n",
        "\n",
        "# Exibe o gráfico\n",
        "plt.show()"
      ],
      "metadata": {
        "colab": {
          "base_uri": "https://localhost:8080/",
          "height": 377
        },
        "id": "IzziD6d9FREy",
        "outputId": "3216069c-b2b1-4805-f39c-e5aabd78ad00"
      },
      "execution_count": 68,
      "outputs": [
        {
          "output_type": "display_data",
          "data": {
            "text/plain": [
              "<Figure size 576x432 with 1 Axes>"
            ],
            "image/png": "[encoded data removed]"
          },
          "metadata": {}
        }
      ]
    },
    {
      "cell_type": "markdown",
      "source": [
        "### **Percentual dos clientes diabeticos**"
      ],
      "metadata": {
        "id": "JjfxOv1vfwPe"
      }
    },
    {
      "cell_type": "code",
      "source": [
        "# Define as cores e rótulos das fatias do gráfico\n",
        "colors = ['#F08080', '#00BFFF']\n",
        "labels = ['Sim', 'Não']\n",
        "\n",
        "# Cria um gráfico de setor com as informações de gênero\n",
        "fig, ax = plt.subplots(figsize=(8, 6), subplot_kw=dict(aspect='equal'))\n",
        "wedges, texts, autotexts = ax.pie(diabete_count, colors= ['#F08080', '#00BFFF'], autopct='%1.1f%%', textprops=dict(color=\"w\"))\n",
        "ax.legend(wedges, labels, title=\"Diabético\", loc=\"center left\", bbox_to_anchor=(1, 0, 0.5, 1))\n",
        "ax.set_title(\"Distribuição dos clientes diabéticos\", fontsize=18, fontweight='bold')\n",
        "\n",
        "# Adiciona uma borda branca ao gráfico de setor\n",
        "ax.set_facecolor('#ffffff')\n",
        "\n",
        "\n",
        "# Define a fonte e tamanho do texto dentro do gráfico de setor\n",
        "plt.setp(autotexts, size=14, weight=\"bold\")\n",
        "plt.setp(texts, size=14)\n",
        "\n",
        "# Exibe o gráfico\n",
        "plt.show()"
      ],
      "metadata": {
        "colab": {
          "base_uri": "https://localhost:8080/",
          "height": 378
        },
        "id": "YTQeGqrMfvYZ",
        "outputId": "5012946a-c94e-47e7-87a8-4efe4a50ecdf"
      },
      "execution_count": 10,
      "outputs": [
        {
          "output_type": "display_data",
          "data": {
            "text/plain": [
              "<Figure size 576x432 with 1 Axes>"
            ],
            "image/png": "[encoded data removed]"
          },
          "metadata": {}
        }
      ]
    },
    {
      "cell_type": "markdown",
      "source": [
        "### **Percentual de clientes fumantes**"
      ],
      "metadata": {
        "id": "V6NsN_b1gS1-"
      }
    },
    {
      "cell_type": "code",
      "source": [
        "# Define as cores e rótulos das fatias do gráfico\n",
        "colors = ['#F08080', '#00BFFF']\n",
        "labels = ['Sim', 'Não']\n",
        "\n",
        "# Cria um gráfico de setor com as informações de gênero\n",
        "fig, ax = plt.subplots(figsize=(8, 6), subplot_kw=dict(aspect='equal'))\n",
        "wedges, texts, autotexts = ax.pie(fumante_count, colors= ['#F08080', '#00BFFF'], autopct='%1.1f%%', textprops=dict(color=\"w\"))\n",
        "ax.legend(wedges, labels, title=\"Fumante\", loc=\"center left\", bbox_to_anchor=(1, 0, 0.5, 1))\n",
        "ax.set_title(\"Distribuição dos clientes Fumante\", fontsize=18, fontweight='bold')\n",
        "\n",
        "# Adiciona uma borda branca ao gráfico de setor\n",
        "ax.set_facecolor('#ffffff')\n",
        "\n",
        "# Define a fonte e tamanho do texto dentro do gráfico de setor\n",
        "plt.setp(autotexts, size=14, weight=\"bold\")\n",
        "plt.setp(texts, size=14)\n",
        "\n",
        "# Exibe o gráfico\n",
        "plt.show()"
      ],
      "metadata": {
        "colab": {
          "base_uri": "https://localhost:8080/",
          "height": 377
        },
        "id": "20fcDXJGgXiY",
        "outputId": "94b0bfda-3bb0-4d1d-aa1c-6426c86e122a"
      },
      "execution_count": 11,
      "outputs": [
        {
          "output_type": "display_data",
          "data": {
            "text/plain": [
              "<Figure size 576x432 with 1 Axes>"
            ],
            "image/png": "[encoded data removed]"
          },
          "metadata": {}
        }
      ]
    },
    {
      "cell_type": "markdown",
      "source": [
        "### Nos últimos 3 gráficos mostrado acima, é possivel notar que o plano está bem equilibrado quando se trata de mulheres e homens. que cerca de 52,1% da população é diabética e que quase 80% dos cliente tem o hábito de fumar."
      ],
      "metadata": {
        "id": "bX3rsIV9iQ58"
      }
    },
    {
      "cell_type": "markdown",
      "source": [
        "### **Boxplot da idade por gênero**"
      ],
      "metadata": {
        "id": "iwMDofTDgyqa"
      }
    },
    {
      "cell_type": "code",
      "source": [
        "# Cria um gráfico de boxplot com as informações de idade e gênero\n",
        "sns.set_style('ticks')\n",
        "\n",
        "fig, ax = plt.subplots(figsize=(10, 8))\n",
        "sns.boxplot(x='sexo', y='idade', data=data, width=0.5, palette=['#F08080', '#00BFFF'], notch=True, ax=ax)\n",
        "\n",
        "# Adiciona um título e rótulos dos eixos ao gráfico\n",
        "ax.set_title(\"Distribuição da idade segundo o sexo\", fontsize=18, fontweight='bold')\n",
        "ax.set_xlabel(\"Gênero\", fontsize=14, fontweight='bold')\n",
        "ax.set_ylabel(\"idade\", fontsize=14, fontweight='bold')\n",
        "\n",
        "# Define o estilo de fonte\n",
        "plt.rcParams['font.family'] = 'Arial'\n",
        "\n",
        "# Define o tamanho dos rótulos dos eixos e dos valores no gráfico\n",
        "plt.xticks(fontsize=12, fontweight='bold')\n",
        "plt.yticks(fontsize=12, fontweight='bold')\n",
        "\n",
        "# Remove a moldura superior e direita do gráfico\n",
        "sns.despine()\n",
        "\n",
        "# Exibe o gráfico de boxplot\n",
        "plt.show()"
      ],
      "metadata": {
        "colab": {
          "base_uri": "https://localhost:8080/",
          "height": 524
        },
        "id": "prveRvojbai-",
        "outputId": "13e070a4-2f05-41a9-addd-2daa8baad0e7"
      },
      "execution_count": 69,
      "outputs": [
        {
          "output_type": "display_data",
          "data": {
            "text/plain": [
              "<Figure size 720x576 with 1 Axes>"
            ],
            "image/png": "[encoded data removed]"
          },
          "metadata": {}
        }
      ]
    },
    {
      "cell_type": "markdown",
      "source": [
        "### O grupo masculino é mais jovem variando de 18 anos à 50 anos, quando comparado com o grupo feminino, que possui uma idade mínima de 25 anos e máxima de 60. \n",
        "\n",
        "\n"
      ],
      "metadata": {
        "id": "aDDJrOjTALYG"
      }
    },
    {
      "cell_type": "code",
      "source": [
        "# Seleciona os dados da coluna \"age\" do seu dataframe \"data\"\n",
        "sns.set_style('ticks')\n",
        "\n",
        "# Cria um gráfico de histograma com as informações de idade\n",
        "fig, ax = plt.subplots(figsize=(8, 6))\n",
        "ax.hist(data['premio'], bins=50, color='#3CB371', edgecolor='black', linewidth=1.2)\n",
        "\n",
        "# Adiciona um título e rótulos dos eixos ao gráfico\n",
        "ax.set_title(\"Distribuição do Custo dos seguros\", fontsize=18, fontweight='bold')\n",
        "ax.set_xlabel(\"Prêio\", fontsize=14, fontweight='bold')\n",
        "ax.set_ylabel(\"Frequência\", fontsize=14, fontweight='bold')\n",
        "\n",
        "# Adiciona um grid ao fundo do gráfico\n",
        "ax.grid(axis='y', alpha=0.7)\n",
        "\n",
        "# Define o estilo de fonte\n",
        "plt.rcParams['font.family'] = 'Arial'\n",
        "\n",
        "# Define o tamanho dos rótulos dos eixos e dos valores no gráfico\n",
        "plt.xticks(fontsize=12)\n",
        "plt.yticks(fontsize=12)\n",
        "\n",
        "# Remove a moldura superior e direita do gráfico\n",
        "ax.spines['top'].set_visible(False)\n",
        "ax.spines['right'].set_visible(False)\n",
        "\n",
        "# Exibe o gráfico\n",
        "plt.show()"
      ],
      "metadata": {
        "colab": {
          "base_uri": "https://localhost:8080/",
          "height": 416
        },
        "id": "Ax16mGlsj1rk",
        "outputId": "172a372f-6215-43d9-b31d-9d196826844e"
      },
      "execution_count": 70,
      "outputs": [
        {
          "output_type": "display_data",
          "data": {
            "text/plain": [
              "<Figure size 576x432 with 1 Axes>"
            ],
            "image/png": "[encoded data removed]"
          },
          "metadata": {}
        }
      ]
    },
    {
      "cell_type": "markdown",
      "source": [
        "### Ao plotar o histograma dos prêmios pago pelos clientes, é possivel notar que existe uma grande frequência que paga até R$ 30.000,00, na medida que o prêmio aumenta a frequência vai diminuindo. No gráfico é possivel notar frequências acima de 50 mil, o que pode ser possivéis candidatos a Outliers."
      ],
      "metadata": {
        "id": "jifY-mkJKZLU"
      }
    },
    {
      "cell_type": "markdown",
      "source": [
        "## **Verificando a existência de Outliers do Prêmio do seguro por sexo**"
      ],
      "metadata": {
        "id": "2T1hzvFr-bQ1"
      }
    },
    {
      "cell_type": "markdown",
      "source": [],
      "metadata": {
        "id": "teqzzi1zkqOv"
      }
    },
    {
      "cell_type": "code",
      "source": [
        "# Seleciona os dados da coluna \"age\" do seu dataframe \"data\"\n",
        "# Cria um gráfico de boxplot com as informações de idade e gênero\n",
        "sns.set_style('ticks')\n",
        "fig, ax = plt.subplots(figsize=(8, 6))\n",
        "sns.boxplot(x='sexo', y='premio', data=data, width=0.5, palette=['#F08080', '#00BFFF'], notch=True, ax=ax)\n",
        "\n",
        "# Adiciona um título e rótulos dos eixos ao gráfico\n",
        "ax.set_title(\"Custo do Seguro segundo o sexo\", fontsize=18, fontweight='bold')\n",
        "ax.set_xlabel(\"Gênero\", fontsize=14, fontweight='bold')\n",
        "ax.set_ylabel(\"Custo\", fontsize=14, fontweight='bold')\n",
        "\n",
        "# Define o estilo de fonte\n",
        "plt.rcParams['font.family'] = 'Arial'\n",
        "\n",
        "# Define o tamanho dos rótulos dos eixos e dos valores no gráfico\n",
        "plt.xticks(fontsize=12, fontweight='bold')\n",
        "plt.yticks(fontsize=12, fontweight='bold')\n",
        "\n",
        "# Remove a moldura superior e direita do gráfico\n",
        "sns.despine()\n",
        "\n",
        "# Exibe o gráfico de boxplot\n",
        "plt.show()"
      ],
      "metadata": {
        "colab": {
          "base_uri": "https://localhost:8080/",
          "height": 415
        },
        "id": "E5C0KtzVvkx5",
        "outputId": "202be49d-4743-4135-8386-7d730b5a4211"
      },
      "execution_count": 71,
      "outputs": [
        {
          "output_type": "display_data",
          "data": {
            "text/plain": [
              "<Figure size 576x432 with 1 Axes>"
            ],
            "image/png": "[encoded data removed]"
          },
          "metadata": {}
        }
      ]
    },
    {
      "cell_type": "markdown",
      "source": [
        "### Analisando o gráfico acima, é possivél ver que a média para os dois grupos são semelhantes, mas existe uma variação maior para o prêmio pagos pelos homens. Alem disso, é possivel notar a existências de outliers para os dois grupos."
      ],
      "metadata": {
        "id": "qAUOtqTl-rGM"
      }
    },
    {
      "cell_type": "markdown",
      "source": [
        "## **Distribuição do prêmio do seguro por Sexo**"
      ],
      "metadata": {
        "id": "UTX6JzQd9_f0"
      }
    },
    {
      "cell_type": "code",
      "source": [
        "# Definindo o estilo do grafico\n",
        "sns.set_style('ticks')\n",
        "\n",
        "# criando o grafico\n",
        "g = sns.displot(data, x='premio', hue='sexo', kde=True, bins=30, alpha=0.8, height=6, aspect=1.5)\n",
        "\n",
        "# nomes nos eixos e titulo\n",
        "plt.xlabel('Custo', fontsize=14)\n",
        "plt.ylabel('Frequência', fontsize=14)\n",
        "plt.title('Custo do Seguro por Sexo', fontsize=16, fontweight='bold')\n",
        "\n",
        "# mostrando o grafico\n",
        "plt.show()"
      ],
      "metadata": {
        "colab": {
          "base_uri": "https://localhost:8080/",
          "height": 463
        },
        "id": "kWo492Kuzsam",
        "outputId": "f5896783-a07a-4967-d2c1-0643585cb954"
      },
      "execution_count": 72,
      "outputs": [
        {
          "output_type": "display_data",
          "data": {
            "text/plain": [
              "<Figure size 734x432 with 1 Axes>"
            ],
            "image/png": "[encoded data removed]"
          },
          "metadata": {}
        }
      ]
    },
    {
      "cell_type": "markdown",
      "source": [
        "### No gráfico acima, mostra o histograma e a densidade do valor pago pelo cliente ao contratar um seguro de saúde, por sexo. É possivel ver prls curva de densidade que as mulheres tem uma frequência maior até os planos que custam R$ 20.000,00 reais, a partir disso, os clientes dos sexos masculinos passam a ter uma aumento na frequência."
      ],
      "metadata": {
        "id": "CLzQhDFkK811"
      }
    },
    {
      "cell_type": "code",
      "source": [
        "# Criando o gráfico de dispersão\n",
        "#g = sns.scatterplot(data=data, x='idade', y='premio')\n",
        "\n",
        "# Definindo nomes dos eixos e título\n",
        "#g.set(xlabel='Idade', ylabel='Custo do seguro', title='Custo do seguro por idade')\n",
        "\n",
        "# Exibindo o gráfico\n",
        "#sns.despine()"
      ],
      "metadata": {
        "id": "qLCvqbujLZ8g"
      },
      "execution_count": null,
      "outputs": []
    },
    {
      "cell_type": "markdown",
      "source": [
        "## **Para clientes fumantes ou diabeticos, o Prêmio pago no seguro é mais caro?**"
      ],
      "metadata": {
        "id": "hCb8bUVXy8xe"
      }
    },
    {
      "cell_type": "code",
      "source": [
        "# Média do prêmio para variavel diabetes.\n",
        "mean_by_diabetes = data.groupby('diabete')['premio'].mean()\n",
        "print(f\"A média do valor do prêmio pago quando o cliente é diabético é: {round(mean_by_diabetes[1],2)}\")\n",
        "print(f\"A média do valor do prêmio pago quando o cliente não é diabético é: {round(mean_by_diabetes[0],2)}\")\n",
        "# Média do prêmio para variavel fumante.\n",
        "mean_by_fumante = data.groupby('fumante')['premio'].mean()\n",
        "print(f\"A média do valor do prêmio pago quando o cliente é fumante é: {round(mean_by_fumante[1],2)}\")\n",
        "print(f\"A média do valor do prêmio pago quando o cliente não é fumante é: {round(mean_by_fumante[0],2)}\")"
      ],
      "metadata": {
        "colab": {
          "base_uri": "https://localhost:8080/"
        },
        "id": "4-qym5QKnA5y",
        "outputId": "664e984c-6d79-44e7-f03a-d73168efb152"
      },
      "execution_count": 73,
      "outputs": [
        {
          "output_type": "stream",
          "name": "stdout",
          "text": [
            "A média do valor do prêmio pago quando o cliente é diabético é: 13236.48\n",
            "A média do valor do prêmio pago quando o cliente não é diabético é: 13406.6\n",
            "A média do valor do prêmio pago quando o cliente é fumante é: 32050.23\n",
            "A média do valor do prêmio pago quando o cliente não é fumante é: 8475.86\n"
          ]
        }
      ]
    },
    {
      "cell_type": "markdown",
      "source": [
        "### O prêmio do seguro pago pelos clientes quando o cliente é diabético é equivalente ao premio pago por aqueles que não são diabético. Por outro lado, ser fulmante ou não, impacta significamente no valor do prêmio a pagar, a média do prêmio pago pelos cliente fulmante é de R$ 32.050,23 e para clientes não fulmantes é de R\\$ 8.475,86."
      ],
      "metadata": {
        "id": "H8AaupkY743A"
      }
    },
    {
      "cell_type": "markdown",
      "source": [],
      "metadata": {
        "id": "gpf9TtrMhM2F"
      }
    },
    {
      "cell_type": "markdown",
      "source": [
        "# **Etapa 2: Modelagem do prêmio do seguro**"
      ],
      "metadata": {
        "id": "XM9aq_tQX4q4"
      }
    },
    {
      "cell_type": "markdown",
      "source": [
        "### Ao estudar o prêmio do seguro, percebeu-se que existe uma grande frequência no valores iniciais. Pressupõe-se que a variável não segue uma distribuição linear, portanto, buscarei esforço para modelar o prêmio do seguro pelos Modelo Lineares Generalizados, um possivél candidato é a distribuição Gamma, por ter seu grafico de densidade semelhante ao do prêmio do seguro e com ligação logarítima, que ao aplicar a tranformação no variável prêmio, o gráfico apresentada normalidade, conforme o gráfico abaixo\n"
      ],
      "metadata": {
        "id": "n8e7_QZTafZG"
      }
    },
    {
      "cell_type": "markdown",
      "source": [
        "## **Histograma do log(prêmio)**"
      ],
      "metadata": {
        "id": "v951m5l9stlz"
      }
    },
    {
      "cell_type": "code",
      "source": [
        "# Seleciona os dados da coluna \"age\" do seu dataframe \"data\"\n",
        "sns.set_style('ticks')\n",
        "\n",
        "# Cria um gráfico de histograma com as informações de idade\n",
        "fig, ax = plt.subplots(figsize=(8, 6))\n",
        "ax.hist(np.log(data['premio']), bins=50, color='#3CB371', edgecolor='black', linewidth=1.2)\n",
        "\n",
        "# Adiciona um título e rótulos dos eixos ao gráfico\n",
        "ax.set_title(\"Distribuição logarítima do prêmio dos seguros\", fontsize=18, fontweight='bold')\n",
        "ax.set_xlabel(\"log(Prêmio)\", fontsize=14, fontweight='bold')\n",
        "ax.set_ylabel(\"Frequência\", fontsize=14, fontweight='bold')\n",
        "\n",
        "# Adiciona um grid ao fundo do gráfico\n",
        "ax.grid(axis='y', alpha=0.7)\n",
        "\n",
        "# Define o estilo de fonte\n",
        "plt.rcParams['font.family'] = 'Arial'\n",
        "\n",
        "# Define o tamanho dos rótulos dos eixos e dos valores no gráfico\n",
        "plt.xticks(fontsize=12)\n",
        "plt.yticks(fontsize=12)\n",
        "\n",
        "# Remove a moldura superior e direita do gráfico\n",
        "ax.spines['top'].set_visible(False)\n",
        "ax.spines['right'].set_visible(False)\n",
        "\n",
        "# Exibe o gráfico\n",
        "plt.show()"
      ],
      "metadata": {
        "id": "diwbXM3B874s",
        "colab": {
          "base_uri": "https://localhost:8080/",
          "height": 416
        },
        "outputId": "86762282-468e-4967-d945-418a4a3c259f"
      },
      "execution_count": 136,
      "outputs": [
        {
          "output_type": "display_data",
          "data": {
            "text/plain": [
              "<Figure size 576x432 with 1 Axes>"
            ],
            "image/png": "[encoded data removed]"
          },
          "metadata": {}
        }
      ]
    },
    {
      "cell_type": "markdown",
      "source": [
        "\n",
        "### **Modelo Proposto**\n",
        "\n",
        "- $Prêmio\\sim Gama(a,b)$  \n",
        "- $\\eta=\\beta_0+\\beta_1IMC+\\beta_2\\cdot Quantidade de filhos+\\beta_3\\cdot Fumante$  \n",
        "- $\\ln\\left(\\mu\\right)=\\eta$.\n"
      ],
      "metadata": {
        "id": "2iRqr30xsrSR"
      }
    },
    {
      "cell_type": "code",
      "source": [
        "#Distribuição Gamma com ligação canônica Log\n",
        "distribuicao = sm.genmod.families.Gamma(link=sm.genmod.families.links.log())\n",
        "# Gerando o modelo\n",
        "modelo = sm.GLM(data['premio'], sm.add_constant(data[['IMC','qtd_filhos','fumante']]), family=distribuicao)\n",
        "#Resultado do modelo\n",
        "resultado = modelo.fit()\n",
        "print(resultado.summary())"
      ],
      "metadata": {
        "colab": {
          "base_uri": "https://localhost:8080/"
        },
        "id": "B-e8jZo61w4V",
        "outputId": "917b208f-5739-413c-c1b5-53ee9da143db"
      },
      "execution_count": 137,
      "outputs": [
        {
          "output_type": "stream",
          "name": "stdout",
          "text": [
            "                 Generalized Linear Model Regression Results                  \n",
            "==============================================================================\n",
            "Dep. Variable:                 premio   No. Observations:                 1332\n",
            "Model:                            GLM   Df Residuals:                     1328\n",
            "Model Family:                   Gamma   Df Model:                            3\n",
            "Link Function:                    log   Scale:                         0.42113\n",
            "Method:                          IRLS   Log-Likelihood:                -13463.\n",
            "Date:                Sun, 26 Feb 2023   Deviance:                       536.25\n",
            "Time:                        16:12:39   Pearson chi2:                     559.\n",
            "No. Iterations:                    14                                         \n",
            "Covariance Type:            nonrobust                                         \n",
            "==============================================================================\n",
            "                 coef    std err          z      P>|z|      [0.025      0.975]\n",
            "------------------------------------------------------------------------------\n",
            "const          8.3887      0.093     90.682      0.000       8.207       8.570\n",
            "IMC            0.0190      0.003      6.545      0.000       0.013       0.025\n",
            "qtd_filhos     0.0623      0.015      4.226      0.000       0.033       0.091\n",
            "fumante        1.3062      0.044     29.692      0.000       1.220       1.392\n",
            "==============================================================================\n"
          ]
        },
        {
          "output_type": "stream",
          "name": "stderr",
          "text": [
            "/usr/local/lib/python3.8/dist-packages/statsmodels/tsa/tsatools.py:142: FutureWarning: In a future version of pandas all arguments of concat except for the argument 'objs' will be keyword-only\n",
            "  x = pd.concat(x[::order], 1)\n"
          ]
        }
      ]
    },
    {
      "cell_type": "markdown",
      "source": [
        "## **Interpretação do modelo**"
      ],
      "metadata": {
        "id": "_EjslJnFVRuN"
      }
    },
    {
      "cell_type": "markdown",
      "source": [
        "\n",
        "\n",
        "### $\\hat\\mu=e^{8,3887+0,190\\cdot IMC+0,0623\\cdot Quantidade de filhos+1,3062 Fumante\\cdot Quantidade de filhos}=e^{8,3887}\\cdot e^{0,1453\\cdot IMC}\\cdot e^{0,0166\\cdot Quantidade de filhos}\\cdot e^{1,3062\\cdot Fumante}$\n",
        "\n",
        "- Quando todas as covariáveis são zero, a média do prêmio pago pelo pelo cliente é de $e^{8,3887} = 4397.09$, o que faz muito sentindo pelo fato de considerar o $IMC = 0$ que é considerado abaixo do peso.\n",
        "- Estima-se que quando há o aumento de uma unidade no Indice de Massa Corporal - IMC, a média do prêmio do seguro aumenta em $e^{0,019} = 1.0192$,  Isto é, ele aumenta, em média, cerca de 1,92%.\n",
        "- Estima-se que quando há o aumento de uma unidade na quantidade de filhos, a média do prêmio do seguro aumenta em $e^{0,0166} = 1.0166$,  Isto é, ele aumenta, em média, cerca de 1,66%.\n",
        "- Estima-se que quando o cliente é fumante, a média do prêmio pelo seguro aumenta em $e^{1,3062} = 3.6921$, ou seja, o Prêmio do seguro fica 3,69 vezes maior."
      ],
      "metadata": {
        "id": "kAb9-00gJ-TD"
      }
    },
    {
      "cell_type": "markdown",
      "source": [
        "# **Etapa 3: Predição do modelo**"
      ],
      "metadata": {
        "id": "Zm8N3bPMfd_1"
      }
    }
  ]
}